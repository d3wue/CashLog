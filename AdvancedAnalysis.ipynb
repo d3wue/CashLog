{
 "cells": [
  {
   "cell_type": "markdown",
   "metadata": {},
   "source": [
    "# CashLog Advanced Analysis\n",
    "\n",
    "In reality, CashLogs decision problem is more complex. If we assume that capacities of a cash center can be increased/reduced, we have to also consider that the annual costs of a cash center depend on its capacity/its volume. It is resonable to assume that:\n",
    "- there is an annual fixed cost per cash center (e.g. for overheads, rent, insurance). However, this will also depend on the capacity, but will not scale proportionally with the volume (i.e., there are economies of scale)\n",
    "- there are annual costs per cash center (e.g. for labor required to process the volume) that are dependent on the volume. They will likely also not be constant, i.e., there will also be economies of scale so that a very large cash center has lower labor costs per delivery than a small cash center\n",
    "\n",
    "How can we capture this cost structure? \n",
    "- Let’s assume there are f types of cash centers: very small (v), small (s), medium (m), large (l), huge (h)\n",
    "- Each cash center has fixed and variable costs depending on whether it is a small, medium, large or huge center\n",
    "\n",
    "We will use this notebook to implement an advanced version of CashLog's decision problem by performing the following steps:\n",
    "1. Define and load relevent model parameters\n",
    "2. Define and initialize the decision variables\n",
    "3. Define and implement the objective function\n",
    "3. Define and implement the relevant constraints\n",
    "4. Solve the problem and anlyse the results\n",
    "5. Perform sensitivity analysis"
   ]
  },
  {
   "cell_type": "markdown",
   "metadata": {},
   "source": [
    "### Load the required libraries"
   ]
  },
  {
   "cell_type": "code",
   "execution_count": null,
   "metadata": {
    "tags": []
   },
   "outputs": [],
   "source": [
    "import pandas as pd\n",
    "import seaborn as sns\n",
    "import matplotlib.pyplot as plt\n",
    "from matplotlib.ticker import FuncFormatter\n",
    "import folium\n",
    "from tqdm import tqdm\n",
    "from pulp import *\n",
    "\n",
    "%matplotlib inline"
   ]
  },
  {
   "cell_type": "markdown",
   "metadata": {},
   "source": [
    "### The decision problem can be modeled in the sense of a MIP"
   ]
  },
  {
   "cell_type": "code",
   "execution_count": null,
   "metadata": {
    "tags": []
   },
   "outputs": [],
   "source": [
    "prob = LpProblem('CashLog_AdvancedAnalysis', LpMinimize)"
   ]
  },
  {
   "cell_type": "markdown",
   "metadata": {},
   "source": [
    "### Define and load model parameters\n",
    "$T = \\{v,s,m,l,h\\}$ Set of possible types of cash centers (very small ($v$), small ($s$), medium ($m$), large ($l$), or huge ($h$))\n",
    "\n",
    "$d_j:$ Deliveries required in region $j$<br>\n",
    "$V^{lb}_t:$ Lower bound of the volume (deliveries) for each type of cash center $t$<br>\n",
    "$V^{ub}_t:$ Upper bound of the volume (deliveries) for each type of cash center $t$<br>\n",
    "$c^{fix}_t:$ Fixed annual costs of a cash center of type $t$<br>\n",
    "$c^{var}_t:$ Variable costs per delivery of a center of type $t$<br>"
   ]
  },
  {
   "cell_type": "code",
   "execution_count": null,
   "metadata": {
    "tags": []
   },
   "outputs": [],
   "source": [
    "warehouses = pd.read_csv('data/warehouses.csv', index_col='warehouseID')\n",
    "W = warehouses.index.values\n",
    "\n",
    "regions = pd.read_csv('data/regions_advanced_analysis.csv', index_col='regionID')\n",
    "R = regions.index.values\n",
    "\n",
    "shifts = pd.read_csv('data/shifts.csv', index_col=['warehouseID', 'regionID'])\n",
    "S = shifts.index.values"
   ]
  },
  {
   "cell_type": "code",
   "execution_count": null,
   "metadata": {
    "tags": []
   },
   "outputs": [],
   "source": [
    "fixCostFunction = {\n",
    "    'v': {'lower_bound': 0, 'upper_bound': 19348, 'c_fix': 61165, 'c_var': 4.14},\n",
    "    's': {'lower_bound': 19349, 'upper_bound': 45415, 'c_fix': 86071, 'c_var': 2.85},\n",
    "    'm': {'lower_bound': 45416, 'upper_bound': 107327, 'c_fix': 145100, 'c_var': 1.55}, \n",
    "    'l': {'lower_bound': 107328, 'upper_bound': 199999, 'c_fix': 145100, 'c_var': 1.55}, \n",
    "    'h': {'lower_bound': 200000, 'upper_bound': 99999999, 'c_fix': 145100, 'c_var': 1.55}\n",
    "}\n",
    "\n",
    "T = fixCostFunction.keys()"
   ]
  },
  {
   "cell_type": "code",
   "execution_count": null,
   "metadata": {
    "tags": []
   },
   "outputs": [],
   "source": [
    "def calculate_fixed_costs(x):\n",
    "    for c in fixCostFunction.keys():\n",
    "        if x >= fixCostFunction[c]['lower_bound'] and x <= fixCostFunction[c]['upper_bound']:\n",
    "            fixed = fixCostFunction[c]['c_fix']\n",
    "            variable = fixCostFunction[c]['c_var'] * x\n",
    "            total_fixed_costs = fixed + variable\n",
    "            return fixed, variable, total_fixed_costs, c\n",
    "        \n",
    "total_costs = []\n",
    "fixed_costs = []\n",
    "variable_costs = []\n",
    "warehouse_size = []\n",
    "x_range = range(0, 300000, 10)\n",
    "for x in x_range:\n",
    "    fixed_costs_tmp, variable_costs_tmp, total_costs_tmp, warehouse_size_tmp = calculate_fixed_costs(x)\n",
    "    fixed_costs.append(fixed_costs_tmp)\n",
    "    variable_costs.append(variable_costs_tmp)\n",
    "    total_costs.append(total_costs_tmp)\n",
    "    warehouse_size.append(warehouse_size_tmp)\n",
    "    \n",
    "plot_df = pd.DataFrame({'fixed_costs': fixed_costs, 'variable_costs': variable_costs, \n",
    "                        'total_costs':total_costs, 'warehouse_size': warehouse_size, 'x': x_range})\n",
    "\n",
    "plot_df.rename(columns={'fixed_costs': 'fixed', 'variable_costs': 'variable'}, inplace=True)\n",
    "plot_df.plot.area(x='x', y=['fixed', 'variable'], alpha=0.3, figsize=(16,10), )\n",
    "for t in fixCostFunction.keys():\n",
    "    if t != 'h':\n",
    "        plt.axvline(fixCostFunction[t]['upper_bound'], c='grey', linestyle='--')\n",
    "        plt.text(x=fixCostFunction[t]['lower_bound'] + (fixCostFunction[t]['upper_bound']-fixCostFunction[t]['lower_bound'])/2, y=\n",
    "                550000, s=t)\n",
    "plt.text(x=250000, y=550000, s='h')\n",
    "plt.xlim(0,300000)\n",
    "plt.xlabel('Deliveries')\n",
    "plt.ylabel('Total Fixed Costs')"
   ]
  },
  {
   "cell_type": "markdown",
   "metadata": {},
   "source": [
    "In our first analysis we will use the current cost function I:"
   ]
  },
  {
   "cell_type": "markdown",
   "metadata": {},
   "source": [
    "### Define and initialize the decision variables\n",
    "\n",
    "To model the advanced version of the decision problem we need additional decision variables:\n",
    "\n",
    "$x_{ij}:$ Binary variable indicating if region $j$ is served by cash center $i$<br> \n",
    "$y_{it}:$ Binary variable indicating if cash center $j$ is of type $t$; if the cash center is closed,, $y_{it}$ will be zero for all $t\\in \\{v,s,m,l,h\\}$<br>\n",
    "$z_{it}:$ is the number of deliveries of cash center $i$ of type $t$<br>"
   ]
  },
  {
   "cell_type": "code",
   "execution_count": null,
   "metadata": {
    "tags": []
   },
   "outputs": [],
   "source": [
    "x = LpVariable.dicts(name='x', indices=S, cat=LpBinary)\n",
    "y = LpVariable.dicts(name='y', indices=(W,T), cat=LpBinary)\n",
    "z = LpVariable.dicts(name='z', indices=(W,T), lowBound=0, upBound=9999999, cat=LpContinuous)"
   ]
  },
  {
   "cell_type": "markdown",
   "metadata": {},
   "source": [
    "### Define and implement the objective function\n",
    "\n",
    "We want to minimize the total network costs (cash center costs + service costs).\n",
    "\n",
    "$$\\min \\sum_{i\\in W} \\sum_{j\\in R} x_{ij} c_{ij} + \\sum_{i\\in W} \\sum_{t\\in T} c^{fix}_t y_{it} + \\sum_{i\\in W} \\sum_{t\\in T} c^{var}_t z_{it}$$"
   ]
  },
  {
   "cell_type": "code",
   "execution_count": null,
   "metadata": {
    "tags": []
   },
   "outputs": [],
   "source": [
    "variableCosts = lpSum([x[i,j] * shifts.loc[i,j].transportationCosts for i,j in S])\n",
    "\n",
    "fixedCosts = lpSum([z[i][t] * fixCostFunction[t]['c_var'] for i in W for t in T]) + \\\n",
    "lpSum([y[i][t] * fixCostFunction[t]['c_fix'] for i in W for t in T])\n",
    "\n",
    "prob += fixedCosts + variableCosts"
   ]
  },
  {
   "cell_type": "markdown",
   "metadata": {},
   "source": [
    "### Define and implement the relevant constraints\n",
    "\n",
    "Regions can only be served by open warehouses:<br>\n",
    "$$x_{ij} \\leq \\sum_{t\\in T} y_{it} \\quad \\forall i\\in W, j\\in R$$\n",
    "\n",
    "Each region has to be served by exactly one warehouse:<br>\n",
    "$$\\sum_{i\\in W} x_{ij} = 1 \\quad \\forall j\\in R$$\n",
    "\n",
    "Warehouses have to handle the entire volume of each assigned region:\n",
    "$$\\sum_{t\\in T} z_{it} = \\sum_{j\\in R} x_{ij} d_j \\quad \\forall i\\in W$$ \n",
    "\n",
    "Fixed cost categories have to be selected depending on the handled volume in a warehouse:\n",
    "$$z_{it} \\geq V^{lb}_t y_{it} \\quad \\forall i\\in W, t\\in T$$\n",
    "$$z_{it} \\leq V^{ub}_t y_{it} \\quad \\forall i\\in W, t\\in T$$"
   ]
  },
  {
   "cell_type": "code",
   "execution_count": null,
   "metadata": {
    "tags": []
   },
   "outputs": [],
   "source": [
    "for i in W:\n",
    "    for j in R:\n",
    "        prob += x[i,j] <= lpSum([y[i][t] for t in T]) \n",
    "\n",
    "for j in R:\n",
    "    prob += lpSum([x[i,j] for i in W]) == 1\n",
    "\n",
    "for i in W:\n",
    "    prob += lpSum([z[i][t] for t in T]) == lpSum([x[i,j] * regions.loc[j].sumDeliveries for j in R])\n",
    "\n",
    "for i in W:\n",
    "    for t in T:\n",
    "        prob += z[i][t] >= fixCostFunction[t]['lower_bound'] * y[i][t]\n",
    "        prob += z[i][t] <= fixCostFunction[t]['upper_bound'] * y[i][t]"
   ]
  },
  {
   "cell_type": "markdown",
   "metadata": {},
   "source": [
    "### Solve the problem and analyze the results"
   ]
  },
  {
   "cell_type": "code",
   "execution_count": null,
   "metadata": {
    "tags": []
   },
   "outputs": [],
   "source": [
    "status = prob.solve(PULP_CBC_CMD())"
   ]
  },
  {
   "cell_type": "code",
   "execution_count": null,
   "metadata": {
    "tags": []
   },
   "outputs": [],
   "source": [
    "# status = prob.solve(solver=PULP_CBC_CMD())"
   ]
  },
  {
   "cell_type": "code",
   "execution_count": null,
   "metadata": {},
   "outputs": [],
   "source": [
    "variableCosts = sum([x[i,j].varValue * shifts.loc[i,j].transportationCosts for i,j in S])\n",
    "cash_center_fixed = sum([y[i][t].varValue * fixCostFunction[t]['c_fix'] for i in W for t in T])\n",
    "cash_center_var = sum([z[i][t].varValue * fixCostFunction[t]['c_var'] for i in W for t in T])\n",
    "print('Minimal costs are {:0,.0f} Euro'.format(prob.objective.value()))\n",
    "print('Service Costs: {:0,.0f}€\\nCash center fixed costs: {:0,.0f}€\\n Cash center variable costs: {:0,.0f}€'.format(variableCosts,\n",
    "                                                                                             cash_center_fixed,\n",
    "                                                                                             cash_center_var))\n",
    "print('To minimize costs the following warehouses should be closed:')\n",
    "for i in W:\n",
    "    if sum([y[i][t].varValue for t in T]) < 0.1:\n",
    "        print('   -{}'.format(warehouses.loc[i].city))"
   ]
  },
  {
   "cell_type": "markdown",
   "metadata": {},
   "source": [
    "### Perform sensitivity analysis\n",
    "\n",
    "To perform sensitivity analysis and get a deeper understanding of the optimal decisions we solve multiple instances of the problem. In order to have a clean notebook we outsourced the model and import it for the analysis.\n",
    "\n",
    "We can instantiate an instance of the model via the ```CashLogWLPadvanced``` class and specify the costs per shift as well as the fixed cost function we want to analyse."
   ]
  },
  {
   "cell_type": "code",
   "execution_count": null,
   "metadata": {},
   "outputs": [],
   "source": [
    "from advancedModel import CashLogWLPadvanced"
   ]
  },
  {
   "cell_type": "code",
   "execution_count": null,
   "metadata": {},
   "outputs": [],
   "source": [
    "wlp = CashLogWLPadvanced()\n",
    "wlp.solve(n_warehouses=-1)\n",
    "print('Minimal costs are {:0,.0f} Euro'.format(wlp.totalCosts))\n",
    "print('Service Costs: {:0,.0f}€\\nCash center fixed costs: {:0,.0f}€\\n Cash center variable costs: {:0,.0f}€'.format(wlp.variableCosts,\n",
    "                                                                                             wlp.cash_center_fixed,\n",
    "                                                                                             wlp.cash_center_var))\n",
    "print('To minimize costs the following warehouses should be closed:')\n",
    "for i in wlp.warehouse_results:\n",
    "    if i['open'] < 0.1:\n",
    "        print('   -{}'.format(i['city']))"
   ]
  },
  {
   "cell_type": "markdown",
   "metadata": {},
   "source": [
    "Again, we can visualize the results on a map:"
   ]
  },
  {
   "cell_type": "code",
   "execution_count": null,
   "metadata": {},
   "outputs": [],
   "source": [
    "plot_df_regions = pd.DataFrame(wlp.region_results)\n",
    "plot_df_warehouses = pd.DataFrame(wlp.warehouse_results)\n",
    "plot_df_warehouses = plot_df_warehouses[plot_df_warehouses.open == 1]\n",
    "palette = sns.color_palette(None, len(wlp.W)).as_hex()\n",
    "palette = {wlp.W[i]: palette[i] for i in range(len(wlp.W))}\n",
    "\n",
    "m = folium.Map(location=[41, -4], zoom_start=6)\n",
    "plot_df_regions.apply(lambda row: folium.Circle(location=[row['lat'], row['lon']], \n",
    "                                                radius=4000, fill=False, popup=row['city'],\n",
    "                                                color=palette[row['warehouseID']]).add_to(m), axis=1)\n",
    "plot_df_warehouses.apply(lambda row: folium.Circle(location=[row['lat'], row['lon']], \n",
    "                                                   radius=10000, fill=True, popup=row['city'],\n",
    "                                                   color=palette[row['warehouseID']], \n",
    "                                                   fill_opacity=1).add_to(m), axis=1)\n",
    "m"
   ]
  },
  {
   "cell_type": "markdown",
   "metadata": {},
   "source": [
    "And compute optimal decisions for different settings:"
   ]
  },
  {
   "cell_type": "code",
   "execution_count": null,
   "metadata": {},
   "outputs": [],
   "source": [
    "cash_center_fixed = {}\n",
    "cash_center_var = {}\n",
    "\n",
    "cVariable = {}\n",
    "cTotal = {}\n",
    "warehouse_results = {}\n",
    "region_results = {}\n",
    "\n",
    "wlp = CashLogWLPadvanced()\n",
    "\n",
    "for c in [1]:\n",
    "    cash_center_fixed[c] = {}\n",
    "    cash_center_var[c] = {}\n",
    "    cVariable[c] = {}\n",
    "    cTotal[c] = {}\n",
    "    warehouse_results[c] = {}\n",
    "    region_results[c] = {}\n",
    "    for n in tqdm(range(12, len(wlp.W)+1, 1)):\n",
    "        wlp = CashLogWLPadvanced()\n",
    "        wlp.solve(n_warehouses=n, fixCostFunction=c)\n",
    "        cash_center_fixed[c][n] = wlp.cash_center_fixed\n",
    "        cash_center_var[c][n] = wlp.cash_center_var\n",
    "        cVariable[c][n] = wlp.variableCosts\n",
    "        cTotal[c][n] = wlp.totalCosts\n",
    "        warehouse_results[c][n] = wlp.warehouse_results\n",
    "        region_results[c][n] = wlp.region_results"
   ]
  },
  {
   "cell_type": "code",
   "execution_count": null,
   "metadata": {},
   "outputs": [],
   "source": [
    "results_df = pd.DataFrame({'cash_center_fixed':cash_center_fixed[1], \n",
    "                           'cash_center_var': cash_center_var[1],\n",
    "                           'transportation':cVariable[1], \n",
    "                           'total':cTotal[1]})\n",
    "results_df['n_warehouses'] = results_df.index.values\n",
    "results_df['cost_function'] = 1\n",
    "\n",
    "plot_df = pd.melt(results_df, id_vars=['n_warehouses', 'cost_function'], \n",
    "                  value_vars=['cash_center_fixed','cash_center_var',\n",
    "                              'transportation', 'total'])\n",
    "\n",
    "\n",
    "def millions(x, pos):\n",
    "    return '%1.1fM' % (x * 1e-6)\n",
    "\n",
    "\n",
    "def plot_costs(fixCostFunction):\n",
    "    tmp = plot_df.loc[plot_df.cost_function ==fixCostFunction]\n",
    "    min_costs_n = tmp.loc[tmp.loc[tmp.variable == 'total'].value.idxmin()].n_warehouses\n",
    "    formatter = FuncFormatter(millions)\n",
    "    tmp.replace(['cash_center_fixed', 'cash_center_var', \n",
    "                 'transportation', 'total'], ['Warehouse fix', 'Warehouse var',\n",
    "                                              'Transportation', 'Total'], inplace=True)\n",
    "    sns.set(font_scale=1.6)\n",
    "    sns.set_style(style='white')\n",
    "    fig, ax = plt.subplots(figsize=(12, 12))\n",
    "    g = sns.lineplot(data=tmp, x='n_warehouses', y='value', \n",
    "                     hue='variable', palette={'Warehouse fix': 'darkblue',\n",
    "                                              'Warehouse var': 'blue', \n",
    "                                              'Transportation': 'green', \n",
    "                                              'Total': 'red'})\n",
    "\n",
    "    g.axvline(min_costs_n, c='grey', linestyle='--')\n",
    "    ax.set_ylim(0,200000000)\n",
    "    ax.yaxis.set_major_formatter(formatter)\n",
    "    ax.set_xlabel('Number of Warehouses')\n",
    "    ax.set_ylabel(\"Costs\")\n",
    "    ax.legend(bbox_to_anchor=[0.5,1.03], loc='center', ncol=4, frameon=False)\n",
    "    plt.show()"
   ]
  },
  {
   "cell_type": "code",
   "execution_count": null,
   "metadata": {},
   "outputs": [],
   "source": [
    "plot_costs(1)"
   ]
  },
  {
   "cell_type": "code",
   "execution_count": null,
   "metadata": {},
   "outputs": [],
   "source": [
    "plot_df_2 = results_df.copy()\n",
    "plot_df_2['cash_center'] = plot_df_2['cash_center_fixed'] + plot_df_2['cash_center_var']\n",
    "min_costs_n = plot_df_2.loc[plot_df_2.total.idxmin()].n_warehouses\n",
    "plot_df_2 = pd.melt(plot_df_2[['n_warehouses', 'transportation', 'cash_center', 'total']], id_vars=['n_warehouses'], \n",
    "                  value_vars=['transportation', 'cash_center', 'total'])\n",
    "\n",
    "formatter = FuncFormatter(millions)\n",
    "plot_df_2.replace(['cash_center', 'transportation', 'total'], ['Warehouse', 'Transportation', 'Total'], inplace=True)\n",
    "sns.set(font_scale=1.6)\n",
    "sns.set_style(style='white')\n",
    "fig, ax = plt.subplots(figsize=(12, 12))\n",
    "g = sns.lineplot(data=plot_df_2, x='n_warehouses', y='value', hue='variable', palette={'Warehouse': 'blue', \n",
    "                                                                              'Transportation': 'green', \n",
    "                                                                              'Total': 'red'})\n",
    "g.axvline(min_costs_n, c='grey', linestyle='--')\n",
    "ax.set_ylim(0,200000000)\n",
    "ax.yaxis.set_major_formatter(formatter)\n",
    "ax.set_xlabel('Number of Warehouses')\n",
    "ax.set_ylabel(\"Costs\")\n",
    "ax.legend(bbox_to_anchor=[0.5,1.03], loc='center', ncol=3, frameon=False)"
   ]
  },
  {
   "cell_type": "code",
   "execution_count": null,
   "metadata": {},
   "outputs": [],
   "source": [
    "def map_results(n_warehouses, fixCostFunction=1):\n",
    "    plot_df_regions = pd.DataFrame(region_results[fixCostFunction][n_warehouses])\n",
    "    plot_df_warehouses = pd.DataFrame(warehouse_results[fixCostFunction][n_warehouses])\n",
    "    plot_df_warehouses = plot_df_warehouses[plot_df_warehouses.open == 1]\n",
    "    palette = sns.color_palette(None, len(wlp.W)).as_hex()\n",
    "    palette = {wlp.W[i]: palette[i] for i in range(len(wlp.W))}\n",
    "\n",
    "    m = folium.Map(location=[41, -4], zoom_start=6)\n",
    "    plot_df_regions.apply(lambda row: folium.Circle(location=[row['lat'], row['lon']], \n",
    "                                                    radius=4000, fill=False, popup=row['city'],\n",
    "                                                    color=palette[row['warehouseID']]).add_to(m), axis=1)\n",
    "    plot_df_warehouses.apply(lambda row: folium.Circle(location=[row['lat'], row['lon']], \n",
    "                                                       radius=10000, fill=True, popup=row['city'],\n",
    "                                                       color=palette[row['warehouseID']], \n",
    "                                                       fill_opacity=1).add_to(m), axis=1)\n",
    "    return m"
   ]
  },
  {
   "cell_type": "code",
   "execution_count": null,
   "metadata": {},
   "outputs": [],
   "source": [
    "map_results(18)"
   ]
  },
  {
   "cell_type": "code",
   "execution_count": null,
   "metadata": {},
   "outputs": [],
   "source": [
    "map_results(39)"
   ]
  }
 ],
 "metadata": {
  "kernelspec": {
   "display_name": "Python 3",
   "language": "python",
   "name": "python3"
  },
  "language_info": {
   "codemirror_mode": {
    "name": "ipython",
    "version": 3
   },
   "file_extension": ".py",
   "mimetype": "text/x-python",
   "name": "python",
   "nbconvert_exporter": "python",
   "pygments_lexer": "ipython3",
   "version": "3.10.15"
  }
 },
 "nbformat": 4,
 "nbformat_minor": 4
}
